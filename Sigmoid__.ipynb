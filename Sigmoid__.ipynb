{
  "nbformat": 4,
  "nbformat_minor": 0,
  "metadata": {
    "colab": {
      "provenance": [],
      "authorship_tag": "ABX9TyPKuClghPS8YFnIClAEEws0",
      "include_colab_link": true
    },
    "kernelspec": {
      "name": "python3",
      "display_name": "Python 3"
    },
    "language_info": {
      "name": "python"
    }
  },
  "cells": [
    {
      "cell_type": "markdown",
      "metadata": {
        "id": "view-in-github",
        "colab_type": "text"
      },
      "source": [
        "<a href=\"https://colab.research.google.com/github/Nandhu2k3/Deeplearning/blob/main/Sigmoid__.ipynb\" target=\"_parent\"><img src=\"https://colab.research.google.com/assets/colab-badge.svg\" alt=\"Open In Colab\"/></a>"
      ]
    },
    {
      "cell_type": "code",
      "execution_count": 2,
      "metadata": {
        "colab": {
          "base_uri": "https://localhost:8080/"
        },
        "id": "Fsyz-2OrtNpC",
        "outputId": "50361937-d03f-472f-953d-f7130d1145bc"
      },
      "outputs": [
        {
          "output_type": "stream",
          "name": "stdout",
          "text": [
            "Enter Score 1: 65\n",
            "Enter Score 2: 76\n",
            "Enter Score 3: 98\n",
            "Enter Score 4: 76\n",
            "Sigmoid Neuron: 1\n"
          ]
        }
      ],
      "source": [
        "import random\n",
        "import math\n",
        "\n",
        "def SigmoidNeuron(x, y, z, w, threshold):\n",
        "  weighted_sum = x + y + z + w\n",
        "  sigmoid_output = 1 / (1 + math.exp(-weighted_sum))\n",
        "  if sigmoid_output >= threshold:\n",
        "    return 1\n",
        "  else:\n",
        "    return 0\n",
        "\n",
        "def main():\n",
        "  x = int(input(\"Enter M1 Score 1: \"))\n",
        "  y = int(input(\"Enter M2 Score 2: \"))\n",
        "  z = int(input(\"Enter M3 Score 3: \"))\n",
        "  w = int(input(\"Enter M4 Score 4: \"))\n",
        "\n",
        "  threshold = 0.5\n",
        "\n",
        "  sigmoid_output = SigmoidNeuron(x, y, z, w, threshold)\n",
        "\n",
        "  print(\"Sigmoid Neuron:\", sigmoid_output)\n",
        "\n",
        "if __name__ == \"__main__\":\n",
        "  main()\n"
      ]
    },
    {
      "cell_type": "code",
      "source": [],
      "metadata": {
        "id": "Qf6pZ7CdtRyy"
      },
      "execution_count": null,
      "outputs": []
    }
  ]
}