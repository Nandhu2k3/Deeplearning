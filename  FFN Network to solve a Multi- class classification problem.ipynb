{
  "nbformat": 4,
  "nbformat_minor": 0,
  "metadata": {
    "colab": {
      "provenance": [],
      "authorship_tag": "ABX9TyPKV3dBuPJvonxSwpOLefSN",
      "include_colab_link": true
    },
    "kernelspec": {
      "name": "python3",
      "display_name": "Python 3"
    },
    "language_info": {
      "name": "python"
    }
  },
  "cells": [
    {
      "cell_type": "markdown",
      "metadata": {
        "id": "view-in-github",
        "colab_type": "text"
      },
      "source": [
        "<a href=\"https://colab.research.google.com/github/Nandhu2k3/Deeplearning/blob/main/%20FFN%20Network%20to%20solve%20a%20Multi-%20class%20classification%20problem.ipynb\" target=\"_parent\"><img src=\"https://colab.research.google.com/assets/colab-badge.svg\" alt=\"Open In Colab\"/></a>"
      ]
    },
    {
      "cell_type": "code",
      "execution_count": 1,
      "metadata": {
        "colab": {
          "base_uri": "https://localhost:8080/"
        },
        "id": "qwNIDz2PYOih",
        "outputId": "015e6779-0935-47a9-bf37-cbdd3a79e11a"
      },
      "outputs": [
        {
          "output_type": "stream",
          "name": "stdout",
          "text": [
            "Enter M1 Score : 67\n",
            "Enter M2 Score : 78\n",
            "Enter M3 Score : 34\n",
            "Enter M4 Score : 23\n",
            "Class 1 output: 202\n",
            "Class 2 output: 404\n",
            "Class 3 output: 606\n"
          ]
        }
      ],
      "source": [
        "import random\n",
        "import math\n",
        "\n",
        "def FFN(x, y, z, w):\n",
        "  weighted_sum = x + y + z + w\n",
        "  return weighted_sum\n",
        "\n",
        "def main():\n",
        "  x = int(input(\"Enter M1 Score : \"))\n",
        "  y = int(input(\"Enter M2 Score : \"))\n",
        "  z = int(input(\"Enter M3 Score : \"))\n",
        "  w = int(input(\"Enter M4 Score : \"))\n",
        "\n",
        "  class_labels = [\"Class 1\", \"Class 2\", \"Class 3\"]\n",
        "\n",
        "  class_outputs = []\n",
        "  for i in range(len(class_labels)):\n",
        "    class_outputs.append(FFN(x, y, z, w) * (i + 1))\n",
        "\n",
        "  print(\"Class 1 output:\", class_outputs[0])\n",
        "  print(\"Class 2 output:\", class_outputs[1])\n",
        "  print(\"Class 3 output:\", class_outputs[2])\n",
        "\n",
        "if __name__ == \"__main__\":\n",
        "  main()\n"
      ]
    },
    {
      "cell_type": "code",
      "source": [],
      "metadata": {
        "id": "Gez8wMIgYS1c"
      },
      "execution_count": null,
      "outputs": []
    }
  ]
}